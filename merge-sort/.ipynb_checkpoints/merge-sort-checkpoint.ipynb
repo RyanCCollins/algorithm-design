{
 "cells": [
  {
   "cell_type": "code",
   "execution_count": 3,
   "metadata": {
    "collapsed": false
   },
   "outputs": [
    {
     "ename": "SyntaxError",
     "evalue": "invalid syntax (<ipython-input-3-5cf44ded9bb5>, line 5)",
     "output_type": "error",
     "traceback": [
      "\u001b[0;36m  File \u001b[0;32m\"<ipython-input-3-5cf44ded9bb5>\"\u001b[0;36m, line \u001b[0;32m5\u001b[0m\n\u001b[0;31m    Recursive Sorting Algorithm\u001b[0m\n\u001b[0m                    ^\u001b[0m\n\u001b[0;31mSyntaxError\u001b[0m\u001b[0;31m:\u001b[0m invalid syntax\n"
     ]
    }
   ],
   "source": [
    "### Merge Sort\n",
    "![Definition](merge-sort-definition.png)\n",
    "![Overview](merge-sort-overview.png)\n",
    "\n",
    "Recursive Sorting Algorithm\n",
    "\n",
    "Input: array of n numbers, unsorted:\n",
    "[1, 4, 2, 6, 3, 7, 9, 5, 8]\n",
    "\n",
    "Output: Some Numbers sorted in increasing order.\n",
    "\n",
    "Take input array, split in half, solve each side and then add together.\n",
    "\n",
    "#### Pseudocode\n",
    "\n",
    "1. Recursively sort 1st half of list\n",
    "2. Recursively sort 2nd half of list\n",
    "3. Merge the two lists together\n",
    "\n",
    "list = [1, 5, 3, 6, 4, 7]\n",
    "length = list.length\n",
    "\n",
    "def merge_sort(list)\n",
    "\n",
    "end\n",
    "\n",
    "C = output array [length = n]\n",
    "A = 1st sorted array [n / 2]\n",
    "B = 2nd sorted array [n / 2]\n",
    "i = 1, j = 1\n",
    "```\n",
    "for k = i to n\n",
    "  if A[i] < B[j]\n",
    "    C[k] = A[i]\n",
    "  else (b[j] < A[i])\n",
    "    C[k] = B[j]\n",
    "    j++\n",
    "```\n",
    "\n",
    "Code in Ruby\n",
    "```\n",
    "def merge_sort(list)\n",
    "  return list if list.size <= 1\n",
    "  mid = list.size / 2\n",
    "  left = list[0, mid]\n",
    "  right = list[mid, list.size]\n",
    "  merge(merge_sort(left), merge_sort(right))\n",
    "end\n",
    "\n",
    "def merge(left, right)\n",
    "  sorted = []\n",
    "  until left.empty? || right.empty?\n",
    "    if left.first <= right.first\n",
    "      sorted << left.shift\n",
    "    else\n",
    "      sorted << right.shift\n",
    "    end\n",
    "  end\n",
    "  sorted.concat(left).concat(right)\n",
    "end\n",
    "```\n",
    "\n",
    "### Merge sort running time\n",
    "Running time is 4m + 2\n",
    "6m (since m > 1)\n"
   ]
  },
  {
   "cell_type": "markdown",
   "metadata": {},
   "source": [
    "### Implementation\n",
    "A python implementation of the merge sort algorithm."
   ]
  },
  {
   "cell_type": "code",
   "execution_count": 3,
   "metadata": {
    "collapsed": false
   },
   "outputs": [],
   "source": [
    "def merge_sort(list):\n",
    "    if len(list) <= 1:\n",
    "        return list\n",
    "    mid = len(list) // 2\n",
    "    left = merge_sort(list[:mid])\n",
    "    right = merge_sort(list[mid:])\n",
    "    return merge(left, right)\n",
    "\n",
    "def merge(left, right):\n",
    "    if not left:\n",
    "        return right\n",
    "    if not right:\n",
    "        return left\n",
    "    if left[0] < right[0]:\n",
    "        return [left[0]] + merge(left[1:], right)\n",
    "    return [right[0]] + merge(left, right[i:])\n"
   ]
  },
  {
   "cell_type": "code",
   "execution_count": null,
   "metadata": {
    "collapsed": true
   },
   "outputs": [],
   "source": [
    "list = [23, 20, 21, 19, 17, 18, 2, 6, 4, 7, 12, 13, 15, 11, 14]\n",
    "merge_sort(lis)"
   ]
  }
 ],
 "metadata": {
  "kernelspec": {
   "display_name": "Python 3",
   "language": "python",
   "name": "python3"
  },
  "language_info": {
   "codemirror_mode": {
    "name": "ipython",
    "version": 3
   },
   "file_extension": ".py",
   "mimetype": "text/x-python",
   "name": "python",
   "nbconvert_exporter": "python",
   "pygments_lexer": "ipython3",
   "version": "3.5.2"
  }
 },
 "nbformat": 4,
 "nbformat_minor": 0
}
