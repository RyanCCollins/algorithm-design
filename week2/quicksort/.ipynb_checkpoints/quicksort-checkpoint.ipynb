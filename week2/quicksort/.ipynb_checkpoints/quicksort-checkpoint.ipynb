{
 "cells": [
  {
   "cell_type": "markdown",
   "metadata": {},
   "source": [
    "### Quicksort Algorithm!"
   ]
  },
  {
   "cell_type": "code",
   "execution_count": null,
   "metadata": {
    "collapsed": true
   },
   "outputs": [],
   "source": [
    "### About Quick Sort\n",
    "\n",
    "#### Benefits\n",
    "1. Linear (On) time, no extra memory allocation.\n",
    "2. Reduces problem size\n",
    "\n",
    "#### High Level Description\n",
    "Hoore circa 1961\n",
    "def Quicksort(Array A, length N)\n",
    "- if n == 1 return\n",
    "- p = ChoosePivot(A, n)\n",
    "- partition A around P\n",
    "- recursively sort 1st part\n",
    "- recursively sort 2nd part\n",
    "\n",
    "\n"
   ]
  }
 ],
 "metadata": {
  "kernelspec": {
   "display_name": "Python 2",
   "language": "python",
   "name": "python2"
  },
  "language_info": {
   "codemirror_mode": {
    "name": "ipython",
    "version": 2
   },
   "file_extension": ".py",
   "mimetype": "text/x-python",
   "name": "python",
   "nbconvert_exporter": "python",
   "pygments_lexer": "ipython2",
   "version": "2.7.12"
  }
 },
 "nbformat": 4,
 "nbformat_minor": 0
}
